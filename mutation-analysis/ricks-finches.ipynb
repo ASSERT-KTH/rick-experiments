{
 "cells": [
  {
   "cell_type": "code",
   "execution_count": null,
   "id": "6c77a0a5",
   "metadata": {},
   "outputs": [],
   "source": [
    "import datetime\n",
    "import fileinput\n",
    "import glob\n",
    "import json\n",
    "import os\n",
    "import re\n",
    "import subprocess\n",
    "import sys"
   ]
  },
  {
   "cell_type": "markdown",
   "id": "ab13329d",
   "metadata": {},
   "source": [
    "## Data"
   ]
  },
  {
   "cell_type": "code",
   "execution_count": null,
   "id": "09173bb4",
   "metadata": {},
   "outputs": [],
   "source": [
    "def read_mut_data(path): \n",
    "    input_file = open(path, \"r\")\n",
    "    project_targets = json.loads(input_file.read())\n",
    "    input_file.close()\n",
    "    return project_targets"
   ]
  },
  {
   "cell_type": "markdown",
   "id": "2bd01a44",
   "metadata": {},
   "source": [
    "## Test runner"
   ]
  },
  {
   "cell_type": "code",
   "execution_count": null,
   "id": "412bed6e",
   "metadata": {},
   "outputs": [],
   "source": [
    "def install_parent_module(target):\n",
    "    os.chdir(target[\"parent-module-path\"])\n",
    "    process = subprocess.Popen(['mvn', 'clean', 'install', '-DskipTests'],\n",
    "                               stdout=subprocess.PIPE, \n",
    "                               stderr=subprocess.PIPE)\n",
    "    output_to_log(\"[LOG] Invoked a clean install of the parent module with {}\".format(process.args))\n",
    "    stdout, stderr = process.communicate()\n",
    "    output_to_log(stdout.decode(\"utf-8\"))\n",
    "    output_to_log(stderr.decode(\"utf-8\"))\n",
    "    output_to_log(\"---------------------------------------------------\")\n",
    "    os.chdir(experiment_directory)"
   ]
  },
  {
   "cell_type": "code",
   "execution_count": null,
   "id": "2af43e80",
   "metadata": {},
   "outputs": [],
   "source": [
    "def run_mvn_test(target):\n",
    "    os.chdir(target[\"test-module-path\"])\n",
    "    output_to_log(\"[LOG] In test module directory \" + os.getcwd())\n",
    "    # run tests\n",
    "    test_class = target[\"test-file\"].replace(\".java\", \"\")\n",
    "    run_test_class = \"-Dtest=\" + test_class\n",
    "    process = subprocess.Popen(['mvn', 'test', run_test_class],\n",
    "                               stdout=subprocess.PIPE, \n",
    "                               stderr=subprocess.PIPE)\n",
    "    output_to_log(\"[LOG] Invoked tests with {}\".format(process.args))\n",
    "    stdout, stderr = process.communicate()\n",
    "    output_to_log(stdout.decode(\"utf-8\"))\n",
    "    output_to_log(stderr.decode(\"utf-8\"))\n",
    "    \n",
    "    output_to_log(\"---------------------------------------------------\")\n",
    "\n",
    "    # store result here\n",
    "    result = re.search(r\"(Tests run:.*)\\n\",\n",
    "                       stdout.decode(\"utf-8\")).group(1)\n",
    "        \n",
    "    process = subprocess.Popen(['mvn', 'clean'],\n",
    "                               stdout=subprocess.PIPE, \n",
    "                               stderr=subprocess.PIPE)\n",
    "    output_to_log(\"[LOG] Cleaned targets with {}\".format(process.args))\n",
    "    stdout, stderr = process.communicate()\n",
    "    output_to_log(stdout.decode(\"utf-8\"))\n",
    "    output_to_log(stderr.decode(\"utf-8\"))\n",
    "    \n",
    "    output_to_log(\"---------------------------------------------------\")\n",
    "\n",
    "    # cd back into experiment directory\n",
    "    os.chdir(experiment_directory)\n",
    "    output_to_log(\"[LOG] In experiment directory \" + os.getcwd())\n",
    "    output_to_log(\"---------------------------------------------------\")\n",
    "    \n",
    "    return result"
   ]
  },
  {
   "cell_type": "code",
   "execution_count": null,
   "id": "58c9fd23",
   "metadata": {},
   "outputs": [],
   "source": [
    "def run_baseline_tests_with_no_oracles(target):\n",
    "    output_to_log(\"[BASELINE] Not evaluating any oracle\")\n",
    "    # comment out all assertEquals and Mockito.verify statements\"\n",
    "    replace_original_RICK_test_with_variant(target, \"baseline\")\n",
    "    \n",
    "    # cd into test module, run tests, cd back into experiments directory\n",
    "    result_baseline = run_mvn_test(target)\n",
    "    \n",
    "    # restore original test\n",
    "    restore_original_RICK_test(target)\n",
    "    output_to_log(\"---------------------------------------------------\")\n",
    "    return result_baseline"
   ]
  },
  {
   "cell_type": "code",
   "execution_count": null,
   "id": "bb501c31",
   "metadata": {},
   "outputs": [],
   "source": [
    "def run_oo(target):\n",
    "    output_to_log(\"[OO] Evaluating only OO\")\n",
    "    replace_original_RICK_test_with_variant(target, \"oo\")\n",
    "\n",
    "    # cd into test module, run tests, cd back into experiments directory\n",
    "    result_oo = run_mvn_test(target)\n",
    "    \n",
    "    # restore original test\n",
    "    restore_original_RICK_test(target)\n",
    "    output_to_log(\"---------------------------------------------------\")\n",
    "    return result_oo"
   ]
  },
  {
   "cell_type": "code",
   "execution_count": null,
   "id": "55e5f1c2",
   "metadata": {},
   "outputs": [],
   "source": [
    "def run_po(target):\n",
    "    output_to_log(\"[PO] Evaluating only PO\")\n",
    "    replace_original_RICK_test_with_variant(target, \"po\")\n",
    "    \n",
    "    # cd into test module, run tests, cd back into experiments directory\n",
    "    result_po = run_mvn_test(target)\n",
    "    \n",
    "    # restore original test\n",
    "    restore_original_RICK_test(target)\n",
    "    output_to_log(\"---------------------------------------------------\")\n",
    "    return result_po"
   ]
  },
  {
   "cell_type": "code",
   "execution_count": null,
   "id": "c876c218",
   "metadata": {},
   "outputs": [],
   "source": [
    "def run_co(target):\n",
    "    output_to_log(\"[CO] Evaluating only CO\")\n",
    "    replace_original_RICK_test_with_variant(target, \"co\")\n",
    "    \n",
    "    # cd into test module, run tests, cd back into experiments directory\n",
    "    result_co = run_mvn_test(target)\n",
    "    \n",
    "    # restore original test\n",
    "    restore_original_RICK_test(target)\n",
    "    output_to_log(\"---------------------------------------------------\")\n",
    "    return result_co"
   ]
  },
  {
   "cell_type": "code",
   "execution_count": null,
   "id": "c4d318ce",
   "metadata": {},
   "outputs": [],
   "source": [
    "def run_all_oracles(target):\n",
    "    output_to_log(\"[ALL] Evaluating (OO +) PO + CO\")\n",
    "    # restore original tests\n",
    "    restore_original_RICK_test(target)\n",
    "    \n",
    "    # cd into test module, run tests, cd back into experiments directory\n",
    "    result_all = run_mvn_test(target)\n",
    "    \n",
    "    output_to_log(\"---------------------------------------------------\")\n",
    "    return result_all"
   ]
  },
  {
   "cell_type": "markdown",
   "id": "db0b8176",
   "metadata": {},
   "source": [
    "## Util"
   ]
  },
  {
   "cell_type": "code",
   "execution_count": null,
   "id": "8a130071",
   "metadata": {},
   "outputs": [],
   "source": [
    "def output_to_log(message):\n",
    "    with open(mut_mutation_log_path, 'a+') as logfile:\n",
    "        logfile.write(message)\n",
    "        logfile.write(\"\\n\")"
   ]
  },
  {
   "cell_type": "code",
   "execution_count": null,
   "id": "e017544f",
   "metadata": {},
   "outputs": [],
   "source": [
    "def cleanup_existing_results():\n",
    "    output_to_log(\"[LOG] Removing pre-existing mutants from current working directory\")\n",
    "    os.system('rm -rf *.java/')\n",
    "    output_to_log(\"[LOG] Cleaning up LittleDarwin results\")\n",
    "    os.system('rm -rf ' + littledarwin_results_path)"
   ]
  },
  {
   "cell_type": "code",
   "execution_count": null,
   "id": "9129ad88",
   "metadata": {},
   "outputs": [],
   "source": [
    "def back_up_original_RICK_test(target):\n",
    "    output_to_log(\"[LOG] Backing up original RICK test as ./\" + target[\"parent-file\"] + \"/original-test.java\")\n",
    "    backup_rick_test = \"cp \" + target[\"test-path\"] + target[\"test-file\"] + \" ./\" + target[\"parent-file\"] + \"/original-test.java\"\n",
    "    output_to_log(\"[LOG] Invoking \" + backup_rick_test)\n",
    "    os.system(backup_rick_test)"
   ]
  },
  {
   "cell_type": "code",
   "execution_count": null,
   "id": "bf4c058f",
   "metadata": {},
   "outputs": [],
   "source": [
    "def restore_original_RICK_test(target):\n",
    "    output_to_log(\"[LOG] Restoring original RICK test from ./\" + target[\"parent-file\"] + \"/original-test.java\")\n",
    "    restore_rick_test = \"cp\" + \" ./\" + target[\"parent-file\"] + \"/original-test.java\" + \" \" + target[\"test-path\"] + target[\"test-file\"]\n",
    "    output_to_log(\"[LOG] Invoking \" + restore_rick_test)\n",
    "    os.system(restore_rick_test)"
   ]
  },
  {
   "cell_type": "code",
   "execution_count": null,
   "id": "dbfe880f",
   "metadata": {},
   "outputs": [],
   "source": [
    "def replace_original_RICK_test_with_variant(target, variant):\n",
    "    output_to_log(\"[LOG] Replacing original RICK test with variant \" + variant)\n",
    "    variant_test_file = \"/test-\" + variant + \".java\"\n",
    "    original_test_file = target[\"test-path\"] + target[\"test-file\"]\n",
    "    replace_rick_test = \"cp \" + output_directory + target[\"mut\"] + variant_test_file + \" \" + original_test_file\n",
    "    output_to_log(\"[LOG] Invoking \" + replace_rick_test)\n",
    "    os.system(replace_rick_test)"
   ]
  },
  {
   "cell_type": "code",
   "execution_count": null,
   "id": "b40d0edc",
   "metadata": {},
   "outputs": [],
   "source": [
    "def make_copies_of_original_RICK_test(target):\n",
    "    output_to_log(\"[LOG] Generating variants of original RICK test\")\n",
    "    original_test_file = target[\"test-path\"] + target[\"test-file\"]\n",
    "    \n",
    "    test_files = [\n",
    "        \"/test-baseline.java\",\n",
    "        \"/test-po.java\",\n",
    "        \"/test-co.java\",\n",
    "        \"/test-all.java\"\n",
    "    ]\n",
    "    \n",
    "    for i in range(len(test_files)):\n",
    "        os.system(\"cp \" + original_test_file + \" \" + output_directory + target[\"mut\"] + test_files[i])\n",
    "        \n",
    "    if target[\"has-oo\"]:\n",
    "        os.system(\"cp \" + original_test_file + \" \" + output_directory + target[\"mut\"] + \"/test-oo.java\")\n",
    "        create_oo_test(output_directory + target[\"mut\"] + \"/test-oo.java\")\n",
    "        \n",
    "    create_baseline_test(output_directory + target[\"mut\"] + test_files[0])\n",
    "    create_po_test(output_directory + target[\"mut\"] + test_files[1])\n",
    "    create_co_test(output_directory + target[\"mut\"] + test_files[2])\n",
    "    create_all_oracles_test(output_directory + target[\"mut\"] + test_files[3])"
   ]
  },
  {
   "cell_type": "code",
   "execution_count": null,
   "id": "cadb02e1",
   "metadata": {},
   "outputs": [],
   "source": [
    "def create_baseline_test(test_file_name):\n",
    "    # baseline - comment out all assertEquals and Mockito.verify statements\"\n",
    "    output_to_log(\"[LOG] Modifying \" + test_file_name)\n",
    "    for line in fileinput.input(test_file_name, inplace = 1): \n",
    "        if oo_string in line or po_string in line or co_string in line:\n",
    "            print(re.sub(r\"^(.*)\", \"//\\\\1\", line), end = '')\n",
    "        else:\n",
    "            print(line, end = '')\n",
    "    output_to_log(\"[LOG] Created baseline test at \" + test_file_name)"
   ]
  },
  {
   "cell_type": "code",
   "execution_count": null,
   "id": "fa553471",
   "metadata": {},
   "outputs": [],
   "source": [
    "def create_oo_test(test_file_name):\n",
    "    # OO: comment out all Mockito.verify statements\n",
    "    output_to_log(\"[LOG] Modifying \" + test_file_name)\n",
    "    for line in fileinput.input(test_file_name, inplace = 1): \n",
    "        if po_string in line or co_string in line:\n",
    "            print(re.sub(r\"^(.*)\", \"// \\\\1\", line), end = '')\n",
    "        else:\n",
    "            print(line, end = '')   \n",
    "    output_to_log(\"[LOG] Created OO test at \" + test_file_name)"
   ]
  },
  {
   "cell_type": "code",
   "execution_count": null,
   "id": "f876ee1c",
   "metadata": {},
   "outputs": [],
   "source": [
    "def create_po_test(test_file_name):\n",
    "    # PO: comment out all assertEquals, Mockito.times() statements\n",
    "    output_to_log(\"[LOG] Modifying \" + test_file_name)\n",
    "    for line in fileinput.input(test_file_name, inplace = 1): \n",
    "        if oo_string in line or co_string in line:\n",
    "            print(re.sub(r\"^(.*)\", \"// \\\\1\", line), end = '')\n",
    "        else:\n",
    "            print(line, end = '')\n",
    "    output_to_log(\"[LOG] Created PO test at \" + test_file_name)"
   ]
  },
  {
   "cell_type": "code",
   "execution_count": null,
   "id": "258a6c74",
   "metadata": {},
   "outputs": [],
   "source": [
    "def create_co_test(test_file_name):\n",
    "    # CO: comment out all assertEquals, Mockito.atLeastOnce() statements\n",
    "    output_to_log(\"[LOG] Modifying \" + test_file_name)\n",
    "    for line in fileinput.input(test_file_name, inplace = 1): \n",
    "        if oo_string in line or po_string in line:\n",
    "            print(re.sub(r\"^(.*)\", \"// \\\\1\", line), end = '')\n",
    "        else:\n",
    "            print(line, end = '')\n",
    "    output_to_log(\"[LOG] Created CO test at \" + test_file_name)"
   ]
  },
  {
   "cell_type": "code",
   "execution_count": null,
   "id": "b67de62b",
   "metadata": {},
   "outputs": [],
   "source": [
    "def create_all_oracles_test(test_file_name):\n",
    "    # All oracles: Nothing to change, this test is equal to the original\n",
    "    output_to_log(\"[LOG] Created test with all oracles at \" + test_file_name)"
   ]
  },
  {
   "cell_type": "code",
   "execution_count": null,
   "id": "fd10854e",
   "metadata": {},
   "outputs": [],
   "source": [
    "def find_if_mutant_is_in_mut(target, mutant_file):\n",
    "    search_string = \"line number in original file: \"\n",
    "    found = \"\"\n",
    "    with open(mutant_file, 'r') as fp:\n",
    "        for l_no, line in enumerate(fp):\n",
    "            # search string\n",
    "            if search_string in line:\n",
    "                found = line\n",
    "                print(\"Processing mutant file\", mutant_file)\n",
    "                print(\"mutant found:\", found)\n",
    "                break\n",
    "                \n",
    "    result = int(re.search(r\"(line number in original file:\\s)(\\d+)\", found).group(2))\n",
    "    return result >= target[\"mut-start-line\"] and result <= target[\"mut-end-line\"]"
   ]
  },
  {
   "cell_type": "code",
   "execution_count": null,
   "id": "87af7eeb",
   "metadata": {},
   "outputs": [],
   "source": [
    "def get_mutant_files(parent):\n",
    "    mutants = ('./' + parent + '/[0-9]*.java')\n",
    "    mutant_files = sorted(glob.glob(mutants))\n",
    "    return mutant_files"
   ]
  },
  {
   "cell_type": "code",
   "execution_count": null,
   "id": "171005a5",
   "metadata": {},
   "outputs": [],
   "source": [
    "def copy_littledarwin_results(parent):\n",
    "    output_to_log(\"[LOG] Copying mutants of \" + parent)\n",
    "    os.system('cp -r ' + littledarwin_results_path + parent + \" ./\")"
   ]
  },
  {
   "cell_type": "code",
   "execution_count": null,
   "id": "0054a70b",
   "metadata": {},
   "outputs": [],
   "source": [
    "def run_littledarwin(path):\n",
    "    output_to_log(\"[LOG] Running littledarwin on \" + path)\n",
    "    process = subprocess.Popen(['python3', '-m', 'littledarwin', '-m', '-v', '-p', path, '--all'],\n",
    "                               stdout=subprocess.PIPE, \n",
    "                               stderr=subprocess.PIPE)\n",
    "    output_to_log(\"[LOG] Invoked LitteDarwin with {}\".format(process.args))\n",
    "    stdout, stderr = process.communicate()\n",
    "    output_to_log(stdout.decode(\"utf-8\"))\n",
    "    output_to_log(stderr.decode(\"utf-8\"))"
   ]
  },
  {
   "cell_type": "code",
   "execution_count": null,
   "id": "4410f542",
   "metadata": {},
   "outputs": [],
   "source": [
    "def copy_mutant_files_to_output_directory(target):\n",
    "    mutants_in_experiment_directory = experiment_directory + target[\"parent-file\"]\n",
    "    path_for_mutants = output_directory + target[\"mut\"] + \"/\"\n",
    "    output_to_log(\"[LOG] Copying littledarwin mutants to \" + path_for_mutants)\n",
    "    process = subprocess.Popen(['cp', '-r', mutants_in_experiment_directory, path_for_mutants],\n",
    "                               stdout=subprocess.PIPE, \n",
    "                               stderr=subprocess.PIPE)\n",
    "    output_to_log(\"[LOG] Invoked copying with {}\".format(process.args))\n",
    "    stdout, stderr = process.communicate()\n",
    "    output_to_log(stdout.decode(\"utf-8\"))\n",
    "    output_to_log(stderr.decode(\"utf-8\"))"
   ]
  },
  {
   "cell_type": "code",
   "execution_count": null,
   "id": "fba4742d",
   "metadata": {},
   "outputs": [],
   "source": [
    "def run_experiment_with_mutant_file(target, mutant_file, original_file):\n",
    "    output_to_log(\"[LOG] Replacing original\" + target[\"parent-file\"] + \" with \" + mutant_file)\n",
    "    replace_original_with_mutant = \"cp \" + mutant_file + \" \" + target[\"parent-path\"] + target[\"parent-file\"]\n",
    "    output_to_log(\"[LOG] Invoking \" + replace_original_with_mutant)\n",
    "    os.system(replace_original_with_mutant)\n",
    "    \n",
    "    # cd into parent module, make a clean install, cd back into experiments directory\n",
    "    install_parent_module(target)\n",
    "        \n",
    "    target_report = {\n",
    "        \"mut\": target[\"mut\"],\n",
    "        \"CUT\": target[\"parent-fqn\"],\n",
    "        \"mutant-file\": mutant_file,\n",
    "        \"mutant-within-mut\": True\n",
    "    }\n",
    "    \n",
    "    # test execution\n",
    "    target_report[\"result_baseline\"] = run_baseline_tests_with_no_oracles(target)\n",
    "    if target[\"has-oo\"]:\n",
    "        target_report[\"result-oo\"] = run_oo(target)\n",
    "    else:\n",
    "        target_report[\"result-oo\"] = \"\"\n",
    "    target_report[\"result-po\"] = run_po(target)\n",
    "    target_report[\"result-co\"] = run_co(target)\n",
    "    target_report[\"result-all\"] = run_all_oracles(target)\n",
    "    \n",
    "    mutation_report_file = output_directory + target[\"mut\"] + \"/mutation-report.json\"\n",
    "    \n",
    "    with open(mutation_report_file, 'a+') as outfile:\n",
    "        json.dump(target_report, outfile, indent=4)\n",
    "        outfile.write(\",\\n\")\n",
    "        \n",
    "    output_to_log(\"[LOG] Resetting \" + target[\"parent-file\"] + \" to original\")\n",
    "    replace_mutant_with_original = \"cp \" + original_file + \" \" + target[\"parent-path\"] + target[\"parent-file\"]\n",
    "    output_to_log(\"[LOG] Invoking \" + replace_mutant_with_original)\n",
    "    os.system(replace_mutant_with_original)"
   ]
  },
  {
   "cell_type": "markdown",
   "id": "36d8f17b",
   "metadata": {},
   "source": [
    "## Mutation analysis"
   ]
  },
  {
   "cell_type": "code",
   "execution_count": null,
   "id": "57691ae3",
   "metadata": {},
   "outputs": [],
   "source": [
    "def run_mutation_analysis(target):\n",
    "    global mut_mutation_log_path\n",
    "    mut_mutation_log_path = output_directory + target[\"mut\"] + \"/mutation-analysis.log\"\n",
    "    os.makedirs(os.path.dirname(mut_mutation_log_path), exist_ok=True)\n",
    "    \n",
    "    output_to_log(\"[LOG] Initiating analysis at \" + str(datetime.datetime.now()))\n",
    "    output_to_log(\"---------------------------------------------------\")\n",
    "    \n",
    "    # housekeeping\n",
    "    cleanup_existing_results()\n",
    "    output_to_log(\"---------------------------------------------------\")\n",
    "\n",
    "    output_to_log(\"[LOG] Working with \" + target[\"mut\"])\n",
    "    output_to_log(\"[LOG] Generating mutants for its parent \" + target[\"parent-file\"])\n",
    "    output_to_log(\"---------------------------------------------------\")\n",
    "    \n",
    "    # run littledarwin\n",
    "    run_littledarwin(target[\"parent-path\"])    \n",
    "    output_to_log(\"---------------------------------------------------\")\n",
    "    \n",
    "    # copy littledarwin results to current directory\n",
    "    copy_littledarwin_results(target[\"parent-file\"])\n",
    "    output_to_log(\"---------------------------------------------------\")\n",
    "\n",
    "    # get list of mutant files\n",
    "    mutant_files = get_mutant_files(target[\"parent-file\"])\n",
    "    output_to_log(\"[LOG] Generated \" + str(len(mutant_files)) + \" mutants\")\n",
    "    output_to_log(\"---------------------------------------------------\")\n",
    "\n",
    "    # get original file\n",
    "    original_file = glob.glob(r'./' + target[\"parent-file\"] + '/original.java')[0]\n",
    "    \n",
    "    # back-up original RICK test\n",
    "    back_up_original_RICK_test(target)\n",
    "    output_to_log(\"---------------------------------------------------\")\n",
    "    \n",
    "    # create variants of original RICK test\n",
    "    make_copies_of_original_RICK_test(target)\n",
    "    output_to_log(\"---------------------------------------------------\")\n",
    "    \n",
    "    for f in range(len(mutant_files)):\n",
    "        if find_if_mutant_is_in_mut(target, mutant_files[f]):\n",
    "            run_experiment_with_mutant_file(target, mutant_files[f], original_file)\n",
    "            output_to_log(\"---------------------------------------------------\")\n",
    "    \n",
    "    # copy all mutants to output folder\n",
    "    copy_mutant_files_to_output_directory(target)\n",
    "    \n",
    "    output_to_log(\"---------------------------------------------------\")\n",
    "    output_to_log(\"[LOG] Finishing analysis at \" + str(datetime.datetime.now()))\n",
    "    \n",
    "    output_to_log(\"====== END OF THE LINE ======\")"
   ]
  },
  {
   "cell_type": "code",
   "execution_count": null,
   "id": "4dbc7fe7",
   "metadata": {},
   "outputs": [],
   "source": [
    "def main():\n",
    "    global experiment_directory\n",
    "    global output_directory\n",
    "    global littledarwin_results_path\n",
    "    global oo_string\n",
    "    global po_string\n",
    "    global co_string\n",
    "\n",
    "    experiment_directory = \"/home/dee/dev/rick-experiments/mutation-analysis/\"\n",
    "    output_directory = experiment_directory + \"output/\"\n",
    "    littledarwin_results_path = \"/home/dee/anaconda3/lib/python3.8/site-packages/littledarwin/LittleDarwinResults/\"\n",
    "\n",
    "    oo_string = \"assertEquals\"\n",
    "    po_string = \"Mockito.atLeastOnce\"\n",
    "    co_string = \"Mockito.times\"\n",
    "    \n",
    "    os.chdir(experiment_directory)\n",
    "    targets_pdfbox = read_mut_data(\"/home/dee/dev/rick-experiments/mutation-analysis/pdfbox/muts-pdfbox.json\")\n",
    "    targets_graphhopper = read_mut_data(\"/home/dee/dev/rick-experiments/mutation-analysis/graphhopper/muts-graphhopper.json\")\n",
    "    targets_gephi = read_mut_data(\"/home/dee/dev/rick-experiments/mutation-analysis/gephi/muts-gephi.json\")    \n",
    "\n",
    "    print(\"Found\", len(targets_pdfbox), \"MUTs for PDFBox\")\n",
    "    print(\"Found\", len(targets_graphhopper), \"MUTs for GraphHopper\" )\n",
    "    print(\"Found\", len(targets_gephi), \"MUTs for Gephi\" )\n",
    "    \n",
    "    \n",
    "    print(\"Working with PDFBox MUTs\")\n",
    "    for target in targets_pdfbox:\n",
    "        print(\"Currently processing\", target[\"mut\"])\n",
    "        print(\"Details:\", target)\n",
    "        run_mutation_analysis(target)\n",
    "    \n",
    "    print(\"Working with GraphHopper MUTs\")\n",
    "    for target in targets_graphhopper:\n",
    "        print(target[\"mut\"])\n",
    "        print(\"Details:\", target)\n",
    "        run_mutation_analysis(target)\n",
    "    \n",
    "    print(\"Working with Gephi MUTs\")\n",
    "    for target in targets_gephi:\n",
    "        print(target[\"mut\"])\n",
    "        print(\"Details:\", target)\n",
    "        run_mutation_analysis(target)\n"
   ]
  },
  {
   "cell_type": "code",
   "execution_count": null,
   "id": "39246f11",
   "metadata": {},
   "outputs": [],
   "source": [
    "main()"
   ]
  },
  {
   "cell_type": "code",
   "execution_count": null,
   "id": "709f7dc5",
   "metadata": {},
   "outputs": [],
   "source": []
  }
 ],
 "metadata": {
  "kernelspec": {
   "display_name": "Python 3",
   "language": "python",
   "name": "python3"
  },
  "language_info": {
   "codemirror_mode": {
    "name": "ipython",
    "version": 3
   },
   "file_extension": ".py",
   "mimetype": "text/x-python",
   "name": "python",
   "nbconvert_exporter": "python",
   "pygments_lexer": "ipython3",
   "version": "3.8.8"
  }
 },
 "nbformat": 4,
 "nbformat_minor": 5
}
